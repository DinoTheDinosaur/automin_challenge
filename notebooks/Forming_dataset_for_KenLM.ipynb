{
 "cells": [
  {
   "cell_type": "code",
   "execution_count": 1,
   "metadata": {},
   "outputs": [],
   "source": [
    "import re\n",
    "\n",
    "from pathlib import Path\n",
    "from num2words import num2words"
   ]
  },
  {
   "cell_type": "code",
   "execution_count": 2,
   "metadata": {},
   "outputs": [],
   "source": [
    "transcripts_path = Path('/home/dino/datasets/automin-2021-confidential-data/task-A-elitr-minuting-corpus-en/train')\n",
    "anootations_pattern = 'transcript_*.deidentified.txt'"
   ]
  },
  {
   "cell_type": "code",
   "execution_count": 3,
   "metadata": {},
   "outputs": [],
   "source": [
    "transcripts_paths = []\n",
    "for path in Path(transcripts_path).rglob(anootations_pattern):\n",
    "    transcripts_paths += [path]\n",
    "transcripts_paths = sorted(transcripts_paths)"
   ]
  },
  {
   "cell_type": "code",
   "execution_count": 4,
   "metadata": {},
   "outputs": [
    {
     "data": {
      "text/plain": [
       "[PosixPath('/home/dino/datasets/automin-2021-confidential-data/task-A-elitr-minuting-corpus-en/train/meeting_en_train_001/transcript_MAN2_annot02.deidentified.txt'),\n",
       " PosixPath('/home/dino/datasets/automin-2021-confidential-data/task-A-elitr-minuting-corpus-en/train/meeting_en_train_002/transcript_MAN_annot17.deidentified.txt')]"
      ]
     },
     "execution_count": 4,
     "metadata": {},
     "output_type": "execute_result"
    }
   ],
   "source": [
    "transcripts_paths[:2]"
   ]
  },
  {
   "cell_type": "code",
   "execution_count": 5,
   "metadata": {},
   "outputs": [],
   "source": [
    "def clean_text(text):\n",
    "    text = text.lower()\n",
    "    text = text.replace(u'\\xa0', u' ')\n",
    "    text = re.sub('[[(<]\\S+[])>]', '', text)\n",
    "    match = re.search('(?<=\\s)[0-9]+(th|rd|nd)', text)\n",
    "    while match !=  None:\n",
    "        offset = match.start(0)\n",
    "        onset = match.end(0)\n",
    "        text = text[:offset] + \\\n",
    "        num2words(int(text[offset:onset-2]), to='ordinal') + \\\n",
    "        text[onset:]\n",
    "        match = re.search('(?<=\\s)[0-9]+(th|rd|nd)', text)\n",
    "    match = re.search('(?<=\\s)[0-9]+(?=[a-z\\s])', text)\n",
    "    while match !=  None:\n",
    "        offset = match.start(0)\n",
    "        onset = match.end(0)\n",
    "        text = text[:offset] + \\\n",
    "        num2words(int(text[offset:onset])) + ' ' + \\\n",
    "        text[onset:]\n",
    "        match = re.search('(?<=\\s)[0-9]+(?=[a-z\\s])', text)\n",
    "    text = re.sub('[.!?]', '\\n', text)\n",
    "    text = re.sub('[^qwertyuiopasdfghjklzxcvbnm\\-\\'\\s]', '', text)\n",
    "    text = re.sub('(?<!\\w)-(?!\\w)', '', text)\n",
    "    text = re.sub('(?<!\\w)-(?=\\w)', '', text)\n",
    "    text = re.sub('(?<=\\w)-(?!\\w)', '', text)\n",
    "    text = re.sub('\\s(uh|uhm|ehm)\\s', ' ', text)\n",
    "    text = re.sub(' \\'m', '\\'m', text)\n",
    "    text = re.sub('[ ]*\\n+[ ]*', '\\n', text)\n",
    "    text = re.sub('[ ]+', ' ', text)\n",
    "    text = re.sub('^[ \\-]+', '', text)\n",
    "    text = re.sub('[ \\-]+$', '', text)\n",
    "    lines = [line for line in text.split('\\n') if line != '']\n",
    "    return lines"
   ]
  },
  {
   "cell_type": "code",
   "execution_count": 6,
   "metadata": {},
   "outputs": [
    {
     "name": "stderr",
     "output_type": "stream",
     "text": [
      "<ipython-input-5-24d96a0b7262>:4: FutureWarning: Possible nested set at position 1\n",
      "  text = re.sub('[[(<]\\S+[])>]', '', text)\n"
     ]
    }
   ],
   "source": [
    "texts = []\n",
    "for text_file in transcripts_paths:\n",
    "    with open(text_file) as f:\n",
    "        texts += clean_text(f.read())"
   ]
  },
  {
   "cell_type": "code",
   "execution_count": 7,
   "metadata": {},
   "outputs": [],
   "source": [
    "with open(transcripts_path / 'automin.corpus', 'w') as f:\n",
    "    f.write('\\n'.join(texts))"
   ]
  },
  {
   "cell_type": "code",
   "execution_count": null,
   "metadata": {},
   "outputs": [],
   "source": []
  }
 ],
 "metadata": {
  "kernelspec": {
   "display_name": "AutoMinutes Challenge",
   "language": "python",
   "name": "python3"
  },
  "language_info": {
   "codemirror_mode": {
    "name": "ipython",
    "version": 3
   },
   "file_extension": ".py",
   "mimetype": "text/x-python",
   "name": "python",
   "nbconvert_exporter": "python",
   "pygments_lexer": "ipython3",
   "version": "3.8.10"
  }
 },
 "nbformat": 4,
 "nbformat_minor": 4
}
